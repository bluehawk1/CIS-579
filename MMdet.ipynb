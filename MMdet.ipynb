{
  "nbformat": 4,
  "nbformat_minor": 0,
  "metadata": {
    "colab": {
      "name": "MMdet.ipynb",
      "provenance": [],
      "collapsed_sections": [],
      "toc_visible": true,
      "include_colab_link": true
    },
    "kernelspec": {
      "name": "python3",
      "display_name": "Python 3"
    },
    "accelerator": "GPU"
  },
  "cells": [
    {
      "cell_type": "markdown",
      "metadata": {
        "id": "view-in-github",
        "colab_type": "text"
      },
      "source": [
        "<a href=\"https://colab.research.google.com/github/tkeval/CIS-579/blob/master/MMdet.ipynb\" target=\"_parent\"><img src=\"https://colab.research.google.com/assets/colab-badge.svg\" alt=\"Open In Colab\"/></a>"
      ]
    },
    {
      "cell_type": "markdown",
      "metadata": {
        "id": "-50Cc0ALd102"
      },
      "source": [
        "function ClickConnect(){\n",
        "    console.log(\"Clicked on connect button\"); \n",
        "    document.querySelector(\"#ok\").click()\n",
        "}\n",
        "setInterval(ClickConnect,60000)"
      ]
    },
    {
      "cell_type": "code",
      "metadata": {
        "id": "11a0fEEX5-qQ"
      },
      "source": [
        "import os "
      ],
      "execution_count": null,
      "outputs": []
    },
    {
      "cell_type": "code",
      "metadata": {
        "id": "swAnbpBxji4k",
        "colab": {
          "base_uri": "https://localhost:8080/"
        },
        "outputId": "5388b543-7841-4c0b-8e96-f865f7d69a31"
      },
      "source": [
        "from google.colab import drive\n",
        "drive.mount('/content/drive')"
      ],
      "execution_count": null,
      "outputs": [
        {
          "output_type": "stream",
          "text": [
            "Mounted at /content/drive\n"
          ],
          "name": "stdout"
        }
      ]
    },
    {
      "cell_type": "code",
      "metadata": {
        "id": "gkGnB9WyHSXB",
        "colab": {
          "base_uri": "https://localhost:8080/"
        },
        "outputId": "ca52a124-39fd-4af6-98e6-7df711c82226"
      },
      "source": [
        "# install dependencies: (use cu101 because colab has CUDA 10.1)\n",
        "!pip install -U torch==1.5.1+cu101 torchvision==0.6.1+cu101 -f https://download.pytorch.org/whl/torch_stable.html\n",
        "\n",
        "# install mmcv-full thus we could use CUDA operators\n",
        "!pip install mmcv-full\n",
        "\n",
        "# Install mmdetection\n",
        "!rm -rf mmdetection\n",
        "!git clone https://github.com/open-mmlab/mmdetection.git\n",
        "%cd mmdetection\n",
        "\n",
        "!pip install -e .\n",
        "\n",
        "# install Pillow 7.0.0 back in order to avoid bug in colab\n",
        "!pip install Pillow==7.0.0"
      ],
      "execution_count": null,
      "outputs": [
        {
          "output_type": "stream",
          "text": [
            "Looking in links: https://download.pytorch.org/whl/torch_stable.html\n",
            "Collecting torch==1.5.1+cu101\n",
            "\u001b[?25l  Downloading https://download.pytorch.org/whl/cu101/torch-1.5.1%2Bcu101-cp36-cp36m-linux_x86_64.whl (704.4MB)\n",
            "\u001b[K     |████████████████████████████████| 704.4MB 26kB/s \n",
            "\u001b[?25hCollecting torchvision==0.6.1+cu101\n",
            "\u001b[?25l  Downloading https://download.pytorch.org/whl/cu101/torchvision-0.6.1%2Bcu101-cp36-cp36m-linux_x86_64.whl (6.6MB)\n",
            "\u001b[K     |████████████████████████████████| 6.6MB 3.5MB/s \n",
            "\u001b[?25hRequirement already satisfied, skipping upgrade: numpy in /usr/local/lib/python3.6/dist-packages (from torch==1.5.1+cu101) (1.18.5)\n",
            "Requirement already satisfied, skipping upgrade: future in /usr/local/lib/python3.6/dist-packages (from torch==1.5.1+cu101) (0.16.0)\n",
            "Requirement already satisfied, skipping upgrade: pillow>=4.1.1 in /usr/local/lib/python3.6/dist-packages (from torchvision==0.6.1+cu101) (7.0.0)\n",
            "Installing collected packages: torch, torchvision\n",
            "  Found existing installation: torch 1.7.0+cu101\n",
            "    Uninstalling torch-1.7.0+cu101:\n",
            "      Successfully uninstalled torch-1.7.0+cu101\n",
            "  Found existing installation: torchvision 0.8.1+cu101\n",
            "    Uninstalling torchvision-0.8.1+cu101:\n",
            "      Successfully uninstalled torchvision-0.8.1+cu101\n",
            "Successfully installed torch-1.5.1+cu101 torchvision-0.6.1+cu101\n",
            "Collecting mmcv-full\n",
            "\u001b[?25l  Downloading https://files.pythonhosted.org/packages/ef/90/e0e86b22e2acc05c55273a680072d7484630e46b487118ce922a3e285343/mmcv-full-1.2.0.tar.gz (241kB)\n",
            "\u001b[K     |████████████████████████████████| 245kB 6.0MB/s \n",
            "\u001b[?25hCollecting addict\n",
            "  Downloading https://files.pythonhosted.org/packages/6a/00/b08f23b7d7e1e14ce01419a467b583edbb93c6cdb8654e54a9cc579cd61f/addict-2.4.0-py3-none-any.whl\n",
            "Requirement already satisfied: numpy in /usr/local/lib/python3.6/dist-packages (from mmcv-full) (1.18.5)\n",
            "Requirement already satisfied: Pillow in /usr/local/lib/python3.6/dist-packages (from mmcv-full) (7.0.0)\n",
            "Requirement already satisfied: pyyaml in /usr/local/lib/python3.6/dist-packages (from mmcv-full) (3.13)\n",
            "Collecting yapf\n",
            "\u001b[?25l  Downloading https://files.pythonhosted.org/packages/c1/5d/d84677fe852bc5e091739acda444a9b6700ffc6b11a21b00dd244c8caef0/yapf-0.30.0-py2.py3-none-any.whl (190kB)\n",
            "\u001b[K     |████████████████████████████████| 194kB 41.8MB/s \n",
            "\u001b[?25hBuilding wheels for collected packages: mmcv-full\n",
            "  Building wheel for mmcv-full (setup.py) ... \u001b[?25l\u001b[?25hdone\n",
            "  Created wheel for mmcv-full: filename=mmcv_full-1.2.0-cp36-cp36m-linux_x86_64.whl size=17025039 sha256=b608bb25e983cab0f264c894a56ee1b30840a597abe0de96837f3e316ac67792\n",
            "  Stored in directory: /root/.cache/pip/wheels/b1/28/b7/e7efc5f0bfd71e6b8da29143406795dccd177fe94eba869cf4\n",
            "Successfully built mmcv-full\n",
            "Installing collected packages: addict, yapf, mmcv-full\n",
            "Successfully installed addict-2.4.0 mmcv-full-1.2.0 yapf-0.30.0\n",
            "Cloning into 'mmdetection'...\n",
            "remote: Enumerating objects: 11, done.\u001b[K\n",
            "remote: Counting objects: 100% (11/11), done.\u001b[K\n",
            "remote: Compressing objects: 100% (11/11), done.\u001b[K\n",
            "remote: Total 14420 (delta 2), reused 0 (delta 0), pack-reused 14409\u001b[K\n",
            "Receiving objects: 100% (14420/14420), 14.18 MiB | 31.50 MiB/s, done.\n",
            "Resolving deltas: 100% (9805/9805), done.\n",
            "/content/mmdetection\n",
            "Obtaining file:///content/mmdetection\n",
            "Requirement already satisfied: matplotlib in /usr/local/lib/python3.6/dist-packages (from mmdet==2.6.0) (3.2.2)\n",
            "Collecting mmpycocotools\n",
            "  Downloading https://files.pythonhosted.org/packages/99/51/1bc1d79f296347eeb2d1a2e0606885ab1e4682833bf275fd39c189952e26/mmpycocotools-12.0.3.tar.gz\n",
            "Requirement already satisfied: numpy in /usr/local/lib/python3.6/dist-packages (from mmdet==2.6.0) (1.18.5)\n",
            "Requirement already satisfied: six in /usr/local/lib/python3.6/dist-packages (from mmdet==2.6.0) (1.15.0)\n",
            "Collecting terminaltables\n",
            "  Downloading https://files.pythonhosted.org/packages/9b/c4/4a21174f32f8a7e1104798c445dacdc1d4df86f2f26722767034e4de4bff/terminaltables-3.1.0.tar.gz\n",
            "Requirement already satisfied: python-dateutil>=2.1 in /usr/local/lib/python3.6/dist-packages (from matplotlib->mmdet==2.6.0) (2.8.1)\n",
            "Requirement already satisfied: kiwisolver>=1.0.1 in /usr/local/lib/python3.6/dist-packages (from matplotlib->mmdet==2.6.0) (1.3.1)\n",
            "Requirement already satisfied: pyparsing!=2.0.4,!=2.1.2,!=2.1.6,>=2.0.1 in /usr/local/lib/python3.6/dist-packages (from matplotlib->mmdet==2.6.0) (2.4.7)\n",
            "Requirement already satisfied: cycler>=0.10 in /usr/local/lib/python3.6/dist-packages (from matplotlib->mmdet==2.6.0) (0.10.0)\n",
            "Requirement already satisfied: setuptools>=18.0 in /usr/local/lib/python3.6/dist-packages (from mmpycocotools->mmdet==2.6.0) (50.3.2)\n",
            "Requirement already satisfied: cython>=0.27.3 in /usr/local/lib/python3.6/dist-packages (from mmpycocotools->mmdet==2.6.0) (0.29.21)\n",
            "Building wheels for collected packages: mmpycocotools, terminaltables\n",
            "  Building wheel for mmpycocotools (setup.py) ... \u001b[?25l\u001b[?25hdone\n",
            "  Created wheel for mmpycocotools: filename=mmpycocotools-12.0.3-cp36-cp36m-linux_x86_64.whl size=266778 sha256=9f699f25b8a58fcc28f86d861372afb3fa18dad54f86bedbb6e95141b42492cc\n",
            "  Stored in directory: /root/.cache/pip/wheels/a2/b0/8d/3307912785a42bc80f673946fac676d5c596eee537af7a599c\n",
            "  Building wheel for terminaltables (setup.py) ... \u001b[?25l\u001b[?25hdone\n",
            "  Created wheel for terminaltables: filename=terminaltables-3.1.0-cp36-none-any.whl size=15356 sha256=bbf525e810b4cc44d6792768962a77da1393e1884f22e7d2f51a3066f7e57dd3\n",
            "  Stored in directory: /root/.cache/pip/wheels/30/6b/50/6c75775b681fb36cdfac7f19799888ef9d8813aff9e379663e\n",
            "Successfully built mmpycocotools terminaltables\n",
            "Installing collected packages: mmpycocotools, terminaltables, mmdet\n",
            "  Running setup.py develop for mmdet\n",
            "Successfully installed mmdet mmpycocotools-12.0.3 terminaltables-3.1.0\n",
            "Requirement already satisfied: Pillow==7.0.0 in /usr/local/lib/python3.6/dist-packages (7.0.0)\n"
          ],
          "name": "stdout"
        }
      ]
    },
    {
      "cell_type": "markdown",
      "metadata": {
        "id": "gi9zw03oM4CH"
      },
      "source": [
        "## Perform inference \n"
      ]
    },
    {
      "cell_type": "code",
      "metadata": {
        "id": "Wb7Ksq8MYSbF",
        "colab": {
          "base_uri": "https://localhost:8080/"
        },
        "outputId": "d651721a-f6cd-4c7f-89f8-ceca98d775bd"
      },
      "source": [
        "!mkdir checkpoints\n",
        "!wget -c http://download.openmmlab.com/mmdetection/v2.0/yolo/yolov3_d53_mstrain-608_273e_coco/yolov3_d53_mstrain-608_273e_coco-139f5633.pth \\\n",
        "      -O checkpoints/yolov3_d53_mstrain-608_273e_coco-139f5633.pth"
      ],
      "execution_count": null,
      "outputs": [
        {
          "output_type": "stream",
          "text": [
            "--2020-11-25 15:46:39--  http://download.openmmlab.com/mmdetection/v2.0/yolo/yolov3_d53_mstrain-608_273e_coco/yolov3_d53_mstrain-608_273e_coco-139f5633.pth\n",
            "Resolving download.openmmlab.com (download.openmmlab.com)... 47.252.96.35\n",
            "Connecting to download.openmmlab.com (download.openmmlab.com)|47.252.96.35|:80... connected.\n",
            "HTTP request sent, awaiting response... 200 OK\n",
            "Length: 248091504 (237M) [application/octet-stream]\n",
            "Saving to: ‘checkpoints/yolov3_d53_mstrain-608_273e_coco-139f5633.pth’\n",
            "\n",
            "checkpoints/yolov3_ 100%[===================>] 236.60M  8.89MB/s    in 27s     \n",
            "\n",
            "2020-11-25 15:47:08 (8.68 MB/s) - ‘checkpoints/yolov3_d53_mstrain-608_273e_coco-139f5633.pth’ saved [248091504/248091504]\n",
            "\n"
          ],
          "name": "stdout"
        }
      ]
    },
    {
      "cell_type": "code",
      "metadata": {
        "id": "8M5KUnX7Np3h"
      },
      "source": [
        "from mmdet.apis import inference_detector, init_detector, show_result_pyplot\n",
        "\n",
        "# Choose to use a config and initialize the detector\n",
        "config = 'configs/yolo/yolov3_d53_320_273e_coco.py'\n",
        "# Setup a checkpoint file to load\n",
        "checkpoint = 'checkpoints/yolov3_d53_mstrain-608_273e_coco-139f5633.pth'\n",
        "# initialize the detector\n",
        "model = init_detector(config, checkpoint, device='cuda:0')"
      ],
      "execution_count": null,
      "outputs": []
    },
    {
      "cell_type": "code",
      "metadata": {
        "id": "Wi6DRpsQPEmV"
      },
      "source": [
        "# Use the detector to do inference\n",
        "img = '/content/drive/MyDrive/research/rgb/'\n",
        "list_files = os.listdir(img)\n",
        "files = os.path.join('/content/drive/MyDrive/research/rgb/', *list_files)"
      ],
      "execution_count": null,
      "outputs": []
    },
    {
      "cell_type": "code",
      "metadata": {
        "id": "H8ilmuBWeKi2"
      },
      "source": [
        "#!7z x '/content/drive/MyDrive/Colab/fuse_share/Copy of rgb.7z' -o'/content/drive/MyDrive/research/'\n",
        "#for i, result in enumerate(inference_detector(model, imgs, cfg, device='cuda:0')):\n",
        "    #print(i, imgs[i])\n",
        "    #show_result(imgs[i], result)\n",
        "#!zip -r \"/content/drive/My Drive/mmdetection.zip\" \"/content/mmdetection/\""
      ],
      "execution_count": null,
      "outputs": []
    },
    {
      "cell_type": "code",
      "metadata": {
        "id": "rZwd0H6idERD"
      },
      "source": [
        "!7z x '/content/drive/MyDrive/Colab/fuse_share/Copy of thermal.7z' -o'/content/drive/MyDrive/research/'"
      ],
      "execution_count": null,
      "outputs": []
    },
    {
      "cell_type": "code",
      "metadata": {
        "id": "byB8xzC13WKz",
        "colab": {
          "base_uri": "https://localhost:8080/"
        },
        "outputId": "5f35a4c9-d177-412b-8c20-2352076c8a36"
      },
      "source": [
        "!python /content/mmdetection/tools/benchmark.py 'configs/yolo/yolocfg.py' 'checkpoints/yolov3_d53_mstrain-608_273e_coco-139f5633.pth'"
      ],
      "execution_count": null,
      "outputs": [
        {
          "output_type": "stream",
          "text": [
            "loading annotations into memory...\n",
            "Done (t=0.52s)\n",
            "creating index...\n",
            "index created!\n",
            "Done image [50 / 2000], fps: 33.7 img / s\n",
            "Done image [100/ 2000], fps: 33.9 img / s\n",
            "Done image [150/ 2000], fps: 33.6 img / s\n",
            "Done image [200/ 2000], fps: 34.0 img / s\n",
            "Done image [250/ 2000], fps: 34.3 img / s\n",
            "Done image [300/ 2000], fps: 34.3 img / s\n",
            "Done image [350/ 2000], fps: 34.4 img / s\n",
            "Done image [400/ 2000], fps: 34.5 img / s\n",
            "Done image [450/ 2000], fps: 34.6 img / s\n",
            "Done image [500/ 2000], fps: 34.6 img / s\n",
            "Done image [550/ 2000], fps: 34.7 img / s\n",
            "Done image [600/ 2000], fps: 34.8 img / s\n",
            "Done image [650/ 2000], fps: 34.9 img / s\n",
            "Done image [700/ 2000], fps: 34.9 img / s\n",
            "Done image [750/ 2000], fps: 34.9 img / s\n",
            "Done image [800/ 2000], fps: 34.9 img / s\n",
            "Done image [850/ 2000], fps: 34.9 img / s\n",
            "Done image [900/ 2000], fps: 34.9 img / s\n",
            "Done image [950/ 2000], fps: 34.9 img / s\n",
            "Done image [1000/ 2000], fps: 35.0 img / s\n",
            "Done image [1050/ 2000], fps: 35.0 img / s\n",
            "Done image [1100/ 2000], fps: 35.0 img / s\n",
            "Done image [1150/ 2000], fps: 35.0 img / s\n",
            "Done image [1200/ 2000], fps: 35.0 img / s\n",
            "Done image [1250/ 2000], fps: 35.0 img / s\n",
            "Done image [1300/ 2000], fps: 35.1 img / s\n",
            "Done image [1350/ 2000], fps: 35.1 img / s\n",
            "Done image [1400/ 2000], fps: 35.1 img / s\n",
            "Done image [1450/ 2000], fps: 35.2 img / s\n",
            "Done image [1500/ 2000], fps: 35.2 img / s\n",
            "Done image [1550/ 2000], fps: 35.2 img / s\n",
            "Done image [1600/ 2000], fps: 35.2 img / s\n",
            "Done image [1650/ 2000], fps: 35.2 img / s\n",
            "Done image [1700/ 2000], fps: 35.2 img / s\n",
            "Done image [1750/ 2000], fps: 35.2 img / s\n",
            "Done image [1800/ 2000], fps: 35.2 img / s\n",
            "Done image [1850/ 2000], fps: 35.2 img / s\n",
            "Done image [1900/ 2000], fps: 35.2 img / s\n",
            "Done image [1950/ 2000], fps: 35.1 img / s\n",
            "Done image [2000/ 2000], fps: 35.1 img / s\n",
            "Overall fps: 35.1 img / s\n"
          ],
          "name": "stdout"
        }
      ]
    },
    {
      "cell_type": "code",
      "metadata": {
        "id": "KHGgJs4RlW7r",
        "colab": {
          "base_uri": "https://localhost:8080/"
        },
        "outputId": "e2c86207-7201-421f-96d0-2adf1199da85"
      },
      "source": [
        "!python /content/mmdetection/tools/test.py 'configs/yolo/yolocfg.py' 'checkpoints/yolov3_d53_mstrain-608_273e_coco-139f5633.pth'  --out abc.pkl"
      ],
      "execution_count": null,
      "outputs": [
        {
          "output_type": "stream",
          "text": [
            "loading annotations into memory...\n",
            "Done (t=1.12s)\n",
            "creating index...\n",
            "index created!\n",
            "[  ] 3000/8862, 15.4 task/s, elapsed: 195s, ETA:   380sTraceback (most recent call last):\n",
            "  File \"/content/mmdetection/tools/test.py\", line 205, in <module>\n",
            "    main()\n",
            "  File \"/content/mmdetection/tools/test.py\", line 178, in main\n",
            "    args.show_score_thr)\n",
            "  File \"/content/mmdetection/mmdet/apis/test.py\", line 25, in single_gpu_test\n",
            "    for i, data in enumerate(data_loader):\n",
            "  File \"/usr/local/lib/python3.6/dist-packages/torch/utils/data/dataloader.py\", line 345, in __next__\n",
            "    data = self._next_data()\n",
            "  File \"/usr/local/lib/python3.6/dist-packages/torch/utils/data/dataloader.py\", line 838, in _next_data\n",
            "    return self._process_data(data)\n",
            "  File \"/usr/local/lib/python3.6/dist-packages/torch/utils/data/dataloader.py\", line 881, in _process_data\n",
            "    data.reraise()\n",
            "  File \"/usr/local/lib/python3.6/dist-packages/torch/_utils.py\", line 395, in reraise\n",
            "    raise self.exc_type(msg)\n",
            "FileNotFoundError: Caught FileNotFoundError in DataLoader worker process 0.\n",
            "Original Traceback (most recent call last):\n",
            "  File \"/usr/local/lib/python3.6/dist-packages/torch/utils/data/_utils/worker.py\", line 178, in _worker_loop\n",
            "    data = fetcher.fetch(index)\n",
            "  File \"/usr/local/lib/python3.6/dist-packages/torch/utils/data/_utils/fetch.py\", line 44, in fetch\n",
            "    data = [self.dataset[idx] for idx in possibly_batched_index]\n",
            "  File \"/usr/local/lib/python3.6/dist-packages/torch/utils/data/_utils/fetch.py\", line 44, in <listcomp>\n",
            "    data = [self.dataset[idx] for idx in possibly_batched_index]\n",
            "  File \"/content/mmdetection/mmdet/datasets/custom.py\", line 189, in __getitem__\n",
            "    return self.prepare_test_img(idx)\n",
            "  File \"/content/mmdetection/mmdet/datasets/custom.py\", line 232, in prepare_test_img\n",
            "    return self.pipeline(results)\n",
            "  File \"/content/mmdetection/mmdet/datasets/pipelines/compose.py\", line 40, in __call__\n",
            "    data = t(data)\n",
            "  File \"/content/mmdetection/mmdet/datasets/pipelines/loading.py\", line 59, in __call__\n",
            "    img_bytes = self.file_client.get(filename)\n",
            "  File \"/usr/local/lib/python3.6/dist-packages/mmcv/fileio/file_client.py\", line 294, in get\n",
            "    return self.client.get(filepath)\n",
            "  File \"/usr/local/lib/python3.6/dist-packages/mmcv/fileio/file_client.py\", line 185, in get\n",
            "    with open(filepath, 'rb') as f:\n",
            "FileNotFoundError: [Errno 2] No such file or directory: '/content/drive/MyDrive/research/thermal/FLIR_03001.jpg'\n",
            "\n"
          ],
          "name": "stdout"
        }
      ]
    }
  ]
}